{
 "cells": [
  {
   "cell_type": "code",
   "execution_count": 1,
   "metadata": {
    "collapsed": true
   },
   "outputs": [],
   "source": [
    "import requests\n",
    "from bs4 import BeautifulSoup as BS"
   ]
  },
  {
   "cell_type": "code",
   "execution_count": 5,
   "metadata": {
    "collapsed": true
   },
   "outputs": [],
   "source": [
    "def _get_session():\n",
    "    session = requests.session()\n",
    "    headers = {'User-Agent':'Mozilla/5.0 (Macintosh; Intel Mac OS X 10_9_2) AppleWebKit/537.36 (KHTML, like Gecko) Chrome/55.0.2883.95 Safari/537.36'}\n",
    "    session.headers.update(headers)\n",
    "    return session"
   ]
  },
  {
   "cell_type": "code",
   "execution_count": 22,
   "metadata": {
    "collapsed": true
   },
   "outputs": [],
   "source": [
    "session = _get_session()"
   ]
  },
  {
   "cell_type": "code",
   "execution_count": 23,
   "metadata": {
    "collapsed": true
   },
   "outputs": [],
   "source": [
    "regions_url = \"http://www.wine-searcher.com/regions.lml\"\n",
    "regions_res = session.get(regions_url)"
   ]
  },
  {
   "cell_type": "code",
   "execution_count": 12,
   "metadata": {
    "collapsed": false
   },
   "outputs": [],
   "source": [
    "regions_soup = BS(regions_res.text,\"lxml\")"
   ]
  },
  {
   "cell_type": "code",
   "execution_count": 33,
   "metadata": {
    "collapsed": false
   },
   "outputs": [
    {
     "data": {
      "text/plain": [
       "['http://www.wine-searcher.com/regions-argentina',\n",
       " 'http://www.wine-searcher.com/regions-australia',\n",
       " 'http://www.wine-searcher.com/regions-chile']"
      ]
     },
     "execution_count": 33,
     "metadata": {},
     "output_type": "execute_result"
    }
   ],
   "source": [
    "regions = [a.attrs['href'] for a in regions_soup.select('#navigation li a')]\n",
    "regions[:3]"
   ]
  },
  {
   "cell_type": "code",
   "execution_count": 20,
   "metadata": {
    "collapsed": false
   },
   "outputs": [
    {
     "data": {
      "text/plain": [
       "'h'"
      ]
     },
     "execution_count": 20,
     "metadata": {},
     "output_type": "execute_result"
    }
   ],
   "source": [
    "regions_"
   ]
  },
  {
   "cell_type": "code",
   "execution_count": 34,
   "metadata": {
    "collapsed": false
   },
   "outputs": [],
   "source": [
    "region_url = regions[0]\n",
    "region_res = session.get(region_url)\n",
    "region_soup = BS(region_res.text, \"lxml\")"
   ]
  },
  {
   "cell_type": "code",
   "execution_count": 36,
   "metadata": {
    "collapsed": false
   },
   "outputs": [
    {
     "data": {
      "text/plain": [
       "['http://www.wine-searcher.com/regions-cafayate+-+calchaqui+valley',\n",
       " 'http://www.wine-searcher.com/regions-catamarca',\n",
       " 'http://www.wine-searcher.com/regions-famatina']"
      ]
     },
     "execution_count": 36,
     "metadata": {},
     "output_type": "execute_result"
    }
   ],
   "source": [
    "sub_regions = [a.attrs['href'] for a in region_soup.select(\"#navigation .top-level li a\")]\n",
    "sub_regions[:3]"
   ]
  },
  {
   "cell_type": "code",
   "execution_count": 37,
   "metadata": {
    "collapsed": true
   },
   "outputs": [],
   "source": [
    "sub_region_url = sub_regions[0]\n",
    "sub_region_res = session.get(sub_region_url)\n",
    "sub_region_soup = BS(sub_region_res.text, \"lxml\")"
   ]
  },
  {
   "cell_type": "code",
   "execution_count": 38,
   "metadata": {
    "collapsed": false
   },
   "outputs": [
    {
     "data": {
      "text/plain": [
       "<!DOCTYPE HTML PUBLIC \"-//W3C//DTD HTML 4.01 Transitional//EN\" \"http://www.w3.org/TR/html4/loose.dtd\">\n",
       "<html lang=\"en\">\n",
       "<head>\n",
       "<title>Wine-Searcher. Human race only please ...</title>\n",
       "<link href=\"http://sr1.wine-searcher.net/images/favicon.1.png\" rel=\"icon\" type=\"image/png\"/>\n",
       "<link href=\"http://sr1.wine-searcher.net/images/favicon.1.png\" rel=\"shortcut icon\" type=\"image/png\"/>\n",
       "<link href=\"http://sr5.wine-searcher.net/css/s108.min.css\" media=\"screen, print\" rel=\"stylesheet\" type=\"text/css\"/>\n",
       "<!--[if lt IE 9]>\n",
       "    <style type=\"text/css\">\n",
       "    .col_sortable:hover,.sorted_asc,.sorted_desc{border-bottom:2px solid #333}\n",
       "    </style>\n",
       "    <![endif]-->\n",
       "<!--[if lt IE 8]>\n",
       "    <style type=\"text/css\">\n",
       "    .ad_article_island_nopad,.banner_placeholder,.mag-search-container{display:none !important}\n",
       "    .prem-rect-adjust{margin:0 !important}\n",
       "    </style>\n",
       "    <![endif]-->\n",
       "<style type=\"text/css\">.billboard{height:440px!important}</style>\n",
       "<script src=\"http://www.google.com/recaptcha/api.js\" type=\"text/javascript\">\n",
       "</script>\n",
       "</head>\n",
       "<body style=\"background-color:#333;color:white\">\n",
       "<div id=\"hpcontainer\" style=\"height:72px\">\n",
       "<div id=\"headercontainer\">\n",
       "<div class=\"headerwrapper\">\n",
       "<div id=\"headerwrapper-inner\">\n",
       "<img alt=\"free Version\" border=\"0\" class=\"logo\" id=\"free-logo\" name=\"free-logo\" src=\"http://sr1.wine-searcher.net/images/pixel.gif\"/>\n",
       "<div id=\"topnavcontainer-alt\">\n",
       "<div id=\"topnavleft\" style=\"margin-left:10px!important\">\n",
       "<ul style=\"list-style-type: none;letter-spacing: .1px;padding: 0;height: 16px;line-height: 16px;margin-top: 4px;\">\n",
       "<li style=\"color:white;list-style-type: none;\">\n",
       "Find and price wines, beers &amp; spirits across all online stores.\n",
       "</li>\n",
       "</ul>\n",
       "</div>\n",
       "</div>\n",
       "</div>\n",
       "</div>\n",
       "<div class=\"billboard\"></div>\n",
       "</div>\n",
       "<div class=\"\" id=\"bodycontainer\">\n",
       "<div class=\"colmask contentparent\">\n",
       "<div id=\"colheader\">\n",
       "<div id=\"sch-homepage-wrapper\">\n",
       "<div class=\"caption\">\n",
       "<h1>Are you a real person?</h1>\n",
       "</div>\n",
       "<p style=\"color:white\">To keep Wine-Searcher running smoothly, we've added some extra security measures to make sure you are a <a href=\"https://en.wikipedia.org/wiki/Human\" style=\"color:white\" target=\"_blank\">real person</a> and not a <a href=\"https://en.wikipedia.org/wiki/Internet_bot\" style=\"color:white;\" target=\"_blank\">robot</a>. Please complete the form below, click 'Continue' and we'll have you back on the site in no time.\n",
       "</p>\n",
       "<form method=\"post\">\n",
       "<input name=\"ars_captcha_submit\" type=\"hidden\" value=\"1\"/>\n",
       "<input name=\"ars_captcha\" type=\"hidden\" value=\"\"/>\n",
       "<div class=\"g-recaptcha\" data-sitekey=\"6LcU5BATAAAAADh2-GMAjMJVCuQS2f7_FSCcvVYM\"></div><br/>\n",
       "<input class=\"sch-main-btn\" style=\"height:32px;width:100px;color:white\" type=\"submit\" value=\"Continue\"/>\n",
       "</form>\n",
       "<p style=\"color:white\">\n",
       "We do not allow automated software to read our website. If you would like to learn more about accessing Wine-Searcher's data, please contact us at feedback@wine-searcher.com.\n",
       "</p>\n",
       "</div>\n",
       "</div>\n",
       "</div>\n",
       "</div>\n",
       "</div>\n",
       "<div id=\"pagefooterpanel\" style=\"margin-top:450px\">\n",
       "<div align=\"center\" id=\"navfooter\">\n",
       "© 2015 all rights reserved, Wine-Searcher™\n",
       "</div>\n",
       "</div>\n",
       "</body>\n",
       "</html>"
      ]
     },
     "execution_count": 38,
     "metadata": {},
     "output_type": "execute_result"
    }
   ],
   "source": [
    "sub_region_soup"
   ]
  },
  {
   "cell_type": "code",
   "execution_count": 43,
   "metadata": {
    "collapsed": false
   },
   "outputs": [
    {
     "data": {
      "text/html": [
       "<!DOCTYPE HTML PUBLIC \"-//W3C//DTD HTML 4.01 Transitional//EN\" \"http://www.w3.org/TR/html4/loose.dtd\">\n",
       "<html lang=\"en\">\n",
       "<head>\n",
       "<title>Wine-Searcher. Human race only please ...</title>\n",
       "<link href=\"http://sr1.wine-searcher.net/images/favicon.1.png\" rel=\"icon\" type=\"image/png\"/>\n",
       "<link href=\"http://sr1.wine-searcher.net/images/favicon.1.png\" rel=\"shortcut icon\" type=\"image/png\"/>\n",
       "<link href=\"http://sr5.wine-searcher.net/css/s108.min.css\" media=\"screen, print\" rel=\"stylesheet\" type=\"text/css\"/>\n",
       "<!--[if lt IE 9]>\n",
       "    <style type=\"text/css\">\n",
       "    .col_sortable:hover,.sorted_asc,.sorted_desc{border-bottom:2px solid #333}\n",
       "    </style>\n",
       "    <![endif]-->\n",
       "<!--[if lt IE 8]>\n",
       "    <style type=\"text/css\">\n",
       "    .ad_article_island_nopad,.banner_placeholder,.mag-search-container{display:none !important}\n",
       "    .prem-rect-adjust{margin:0 !important}\n",
       "    </style>\n",
       "    <![endif]-->\n",
       "<style type=\"text/css\">.billboard{height:440px!important}</style>\n",
       "<script src=\"http://www.google.com/recaptcha/api.js\" type=\"text/javascript\">\n",
       "</script>\n",
       "</head>\n",
       "<body style=\"background-color:#333;color:white\">\n",
       "<div id=\"hpcontainer\" style=\"height:72px\">\n",
       "<div id=\"headercontainer\">\n",
       "<div class=\"headerwrapper\">\n",
       "<div id=\"headerwrapper-inner\">\n",
       "<img alt=\"free Version\" border=\"0\" class=\"logo\" id=\"free-logo\" name=\"free-logo\" src=\"http://sr1.wine-searcher.net/images/pixel.gif\"/>\n",
       "<div id=\"topnavcontainer-alt\">\n",
       "<div id=\"topnavleft\" style=\"margin-left:10px!important\">\n",
       "<ul style=\"list-style-type: none;letter-spacing: .1px;padding: 0;height: 16px;line-height: 16px;margin-top: 4px;\">\n",
       "<li style=\"color:white;list-style-type: none;\">\n",
       "Find and price wines, beers &amp; spirits across all online stores.\n",
       "</li>\n",
       "</ul>\n",
       "</div>\n",
       "</div>\n",
       "</div>\n",
       "</div>\n",
       "<div class=\"billboard\"></div>\n",
       "</div>\n",
       "<div class=\"\" id=\"bodycontainer\">\n",
       "<div class=\"colmask contentparent\">\n",
       "<div id=\"colheader\">\n",
       "<div id=\"sch-homepage-wrapper\">\n",
       "<div class=\"caption\">\n",
       "<h1>Are you a real person?</h1>\n",
       "</div>\n",
       "<p style=\"color:white\">To keep Wine-Searcher running smoothly, we've added some extra security measures to make sure you are a <a href=\"https://en.wikipedia.org/wiki/Human\" style=\"color:white\" target=\"_blank\">real person</a> and not a <a href=\"https://en.wikipedia.org/wiki/Internet_bot\" style=\"color:white;\" target=\"_blank\">robot</a>. Please complete the form below, click 'Continue' and we'll have you back on the site in no time.\n",
       "</p>\n",
       "<form method=\"post\">\n",
       "<input name=\"ars_captcha_submit\" type=\"hidden\" value=\"1\"/>\n",
       "<input name=\"ars_captcha\" type=\"hidden\" value=\"\"/>\n",
       "<div class=\"g-recaptcha\" data-sitekey=\"6LcU5BATAAAAADh2-GMAjMJVCuQS2f7_FSCcvVYM\"></div><br/>\n",
       "<input class=\"sch-main-btn\" style=\"height:32px;width:100px;color:white\" type=\"submit\" value=\"Continue\"/>\n",
       "</form>\n",
       "<p style=\"color:white\">\n",
       "We do not allow automated software to read our website. If you would like to learn more about accessing Wine-Searcher's data, please contact us at feedback@wine-searcher.com.\n",
       "</p>\n",
       "</div>\n",
       "</div>\n",
       "</div>\n",
       "</div>\n",
       "</div>\n",
       "<div id=\"pagefooterpanel\" style=\"margin-top:450px\">\n",
       "<div align=\"center\" id=\"navfooter\">\n",
       "© 2015 all rights reserved, Wine-Searcher™\n",
       "</div>\n",
       "</div>\n",
       "</body>\n",
       "</html>"
      ],
      "text/plain": [
       "<IPython.core.display.HTML object>"
      ]
     },
     "metadata": {},
     "output_type": "display_data"
    }
   ],
   "source": [
    "%%HTML\n",
    "<!DOCTYPE HTML PUBLIC \"-//W3C//DTD HTML 4.01 Transitional//EN\" \"http://www.w3.org/TR/html4/loose.dtd\">\n",
    "<html lang=\"en\">\n",
    "<head>\n",
    "<title>Wine-Searcher. Human race only please ...</title>\n",
    "<link href=\"http://sr1.wine-searcher.net/images/favicon.1.png\" rel=\"icon\" type=\"image/png\"/>\n",
    "<link href=\"http://sr1.wine-searcher.net/images/favicon.1.png\" rel=\"shortcut icon\" type=\"image/png\"/>\n",
    "<link href=\"http://sr5.wine-searcher.net/css/s108.min.css\" media=\"screen, print\" rel=\"stylesheet\" type=\"text/css\"/>\n",
    "<!--[if lt IE 9]>\n",
    "    <style type=\"text/css\">\n",
    "    .col_sortable:hover,.sorted_asc,.sorted_desc{border-bottom:2px solid #333}\n",
    "    </style>\n",
    "    <![endif]-->\n",
    "<!--[if lt IE 8]>\n",
    "    <style type=\"text/css\">\n",
    "    .ad_article_island_nopad,.banner_placeholder,.mag-search-container{display:none !important}\n",
    "    .prem-rect-adjust{margin:0 !important}\n",
    "    </style>\n",
    "    <![endif]-->\n",
    "<style type=\"text/css\">.billboard{height:440px!important}</style>\n",
    "<script src=\"http://www.google.com/recaptcha/api.js\" type=\"text/javascript\">\n",
    "</script>\n",
    "</head>\n",
    "<body style=\"background-color:#333;color:white\">\n",
    "<div id=\"hpcontainer\" style=\"height:72px\">\n",
    "<div id=\"headercontainer\">\n",
    "<div class=\"headerwrapper\">\n",
    "<div id=\"headerwrapper-inner\">\n",
    "<img alt=\"free Version\" border=\"0\" class=\"logo\" id=\"free-logo\" name=\"free-logo\" src=\"http://sr1.wine-searcher.net/images/pixel.gif\"/>\n",
    "<div id=\"topnavcontainer-alt\">\n",
    "<div id=\"topnavleft\" style=\"margin-left:10px!important\">\n",
    "<ul style=\"list-style-type: none;letter-spacing: .1px;padding: 0;height: 16px;line-height: 16px;margin-top: 4px;\">\n",
    "<li style=\"color:white;list-style-type: none;\">\n",
    "Find and price wines, beers &amp; spirits across all online stores.\n",
    "</li>\n",
    "</ul>\n",
    "</div>\n",
    "</div>\n",
    "</div>\n",
    "</div>\n",
    "<div class=\"billboard\"></div>\n",
    "</div>\n",
    "<div class=\"\" id=\"bodycontainer\">\n",
    "<div class=\"colmask contentparent\">\n",
    "<div id=\"colheader\">\n",
    "<div id=\"sch-homepage-wrapper\">\n",
    "<div class=\"caption\">\n",
    "<h1>Are you a real person?</h1>\n",
    "</div>\n",
    "<p style=\"color:white\">To keep Wine-Searcher running smoothly, we've added some extra security measures to make sure you are a <a href=\"https://en.wikipedia.org/wiki/Human\" style=\"color:white\" target=\"_blank\">real person</a> and not a <a href=\"https://en.wikipedia.org/wiki/Internet_bot\" style=\"color:white;\" target=\"_blank\">robot</a>. Please complete the form below, click 'Continue' and we'll have you back on the site in no time.\n",
    "</p>\n",
    "<form method=\"post\">\n",
    "<input name=\"ars_captcha_submit\" type=\"hidden\" value=\"1\"/>\n",
    "<input name=\"ars_captcha\" type=\"hidden\" value=\"\"/>\n",
    "<div class=\"g-recaptcha\" data-sitekey=\"6LcU5BATAAAAADh2-GMAjMJVCuQS2f7_FSCcvVYM\"></div><br/>\n",
    "<input class=\"sch-main-btn\" style=\"height:32px;width:100px;color:white\" type=\"submit\" value=\"Continue\"/>\n",
    "</form>\n",
    "<p style=\"color:white\">\n",
    "We do not allow automated software to read our website. If you would like to learn more about accessing Wine-Searcher's data, please contact us at feedback@wine-searcher.com.\n",
    "</p>\n",
    "</div>\n",
    "</div>\n",
    "</div>\n",
    "</div>\n",
    "</div>\n",
    "<div id=\"pagefooterpanel\" style=\"margin-top:450px\">\n",
    "<div align=\"center\" id=\"navfooter\">\n",
    "© 2015 all rights reserved, Wine-Searcher™\n",
    "</div>\n",
    "</div>\n",
    "</body>\n",
    "</html>"
   ]
  },
  {
   "cell_type": "code",
   "execution_count": 43,
   "metadata": {
    "collapsed": true
   },
   "outputs": [],
   "source": [
    "from selenium import webdriver\n",
    "from pyvirtualdisplay import Display\n",
    "from bs4 import BeautifulSoup as BS"
   ]
  },
  {
   "cell_type": "code",
   "execution_count": 44,
   "metadata": {
    "collapsed": true
   },
   "outputs": [],
   "source": [
    "from selenium.webdriver.common.by import By\n",
    "from selenium.webdriver.support.wait import WebDriverWait\n",
    "from selenium.webdriver.common.action_chains import ActionChains\n",
    "from selenium.webdriver.support import expected_conditions as EC\n",
    "from selenium.common.exceptions import NoSuchElementException  "
   ]
  },
  {
   "cell_type": "code",
   "execution_count": 45,
   "metadata": {
    "collapsed": true
   },
   "outputs": [],
   "source": [
    "from IPython.display import HTML"
   ]
  },
  {
   "cell_type": "code",
   "execution_count": 46,
   "metadata": {
    "collapsed": false
   },
   "outputs": [
    {
     "data": {
      "text/plain": [
       "<Display cmd_param=['Xvfb', '-br', '-nolisten', 'tcp', '-screen', '0', '1024x1440x24', ':1061'] cmd=['Xvfb', '-br', '-nolisten', 'tcp', '-screen', '0', '1024x1440x24', ':1061'] oserror=None return_code=None stdout=\"None\" stderr=\"None\" timeout_happened=False>"
      ]
     },
     "execution_count": 46,
     "metadata": {},
     "output_type": "execute_result"
    }
   ],
   "source": [
    "display = Display(visible=0, size=(1024, 1440))\n",
    "display.start()"
   ]
  },
  {
   "cell_type": "code",
   "execution_count": 47,
   "metadata": {
    "collapsed": true
   },
   "outputs": [],
   "source": [
    "driver = webdriver.Firefox()"
   ]
  },
  {
   "cell_type": "code",
   "execution_count": 48,
   "metadata": {
    "collapsed": false
   },
   "outputs": [],
   "source": [
    "regions_url = \"http://www.wine-searcher.com/regions.lml\"\n",
    "driver.get(regions_url)"
   ]
  },
  {
   "cell_type": "code",
   "execution_count": 50,
   "metadata": {
    "collapsed": false
   },
   "outputs": [
    {
     "data": {
      "text/plain": [
       "'<!DOCTYPE html PUBLIC \"-//W3C//DTD HTML 4.01 Transitional//EN\" \"http://www.w3.org/TR/html4/loose.dtd\">\\n<html xmlns=\"http://www.w3.org/1999/xhtml\" lang=\"en\"><head>\\n<title>Wine-Searcher. Human race only please ...</title>\\n<link rel=\"icon\" href=\"http://sr1.wine-searcher.net/images/favicon.1.png\" type=\"image/png\" />\\n<link rel=\"shortcut icon\" href=\"http://sr1.wine-searcher.net/images/favicon.1.png\" type=\"image/png\" />\\n<link rel=\"stylesheet\" type=\"text/css\" href=\"http://sr5.wine-searcher.net/css/s108.min.css\" media=\"screen, print\" />\\n<!--[if lt IE 9]>\\n    <style type=\"text/css\">\\n    .col_sortable:hover,.sorted_asc,.sorted_desc{border-bottom:2px solid #333}\\n    </style>\\n    <![endif]-->\\n<!--[if lt IE 8]>\\n    <style type=\"text/css\">\\n    .ad_article_island_nopad,.banner_placeholder,.mag-search-container{display:none !important}\\n    .prem-rect-adjust{margin:0 !important}\\n    </style>\\n    <![endif]-->\\n<style type=\"text/css\">.billboard{height:440px!important}</style>\\n<script type=\"text/javascript\" async=\"\" src=\"https://www.gstatic.com/recaptcha/api2/r20170109113303/recaptcha__en.js\"></script><script type=\"text/javascript\" src=\"http://www.google.com/recaptcha/api.js\">\\n  </script>\\n</head>\\n<body style=\"background-color:#333;color:white\">\\n<div id=\"hpcontainer\" style=\"height:72px\">\\n<div id=\"headercontainer\">\\n<div class=\"headerwrapper\">\\n<div id=\"headerwrapper-inner\">\\n<img id=\"free-logo\" src=\"http://sr1.wine-searcher.net/images/pixel.gif\" class=\"logo\" alt=\"free Version\" name=\"free-logo\" border=\"0\" />\\n<div id=\"topnavcontainer-alt\">\\n<div id=\"topnavleft\" style=\"margin-left:10px!important\">\\n<ul style=\"list-style-type: none;letter-spacing: .1px;padding: 0;height: 16px;line-height: 16px;margin-top: 4px;\">\\n<li style=\"color:white;list-style-type: none;\">\\nFind and price wines, beers &amp; spirits across all online stores.\\n</li>\\n</ul>\\n</div>\\n</div>\\n</div>\\n</div>\\n<div class=\"billboard\"></div>\\n</div>\\n<div id=\"bodycontainer\" class=\"\">\\n<div class=\"colmask contentparent\">\\n<div id=\"colheader\">\\n<div id=\"sch-homepage-wrapper\">\\n<div class=\"caption\">\\n<h1>Are you a real person?</h1>\\n</div>\\n<p style=\"color:white\">To keep Wine-Searcher running smoothly, we\\'ve added some extra security measures to make sure you are a <a href=\"https://en.wikipedia.org/wiki/Human\" target=\"_blank\" style=\"color:white\">real person</a> and not a <a href=\"https://en.wikipedia.org/wiki/Internet_bot\" target=\"_blank\" style=\"color:white;\">robot</a>. Please complete the form below, click \\'Continue\\' and we\\'ll have you back on the site in no time.\\n</p>\\n<form method=\"post\">\\n<input name=\"ars_captcha_submit\" value=\"1\" type=\"hidden\" />\\n<input name=\"ars_captcha\" value=\"\" type=\"hidden\" />\\n<div class=\"g-recaptcha\" data-sitekey=\"6LcU5BATAAAAADh2-GMAjMJVCuQS2f7_FSCcvVYM\"><div style=\"width: 304px; height: 78px;\"><div><iframe src=\"https://www.google.com/recaptcha/api2/anchor?k=6LcU5BATAAAAADh2-GMAjMJVCuQS2f7_FSCcvVYM&amp;co=aHR0cDovL3d3dy53aW5lLXNlYXJjaGVyLmNvbTo4MA..&amp;hl=en&amp;v=r20170109113303&amp;size=normal&amp;cb=e9tfj8loie25\" title=\"recaptcha widget\" scrolling=\"no\" name=\"undefined\" width=\"304\" height=\"78\" frameborder=\"0\"></iframe></div><textarea id=\"g-recaptcha-response\" name=\"g-recaptcha-response\" class=\"g-recaptcha-response\" style=\"width: 250px; height: 40px; border: 1px solid #c1c1c1; margin: 10px 25px; padding: 0px; resize: none;  display: none; \"></textarea></div></div><br />\\n<input value=\"Continue\" class=\"sch-main-btn\" style=\"height:32px;width:100px;color:white\" type=\"submit\" />\\n</form>\\n<p style=\"color:white\">\\nWe do not allow automated software to read our website. If you would like to learn more about accessing Wine-Searcher\\'s data, please contact us at feedback@wine-searcher.com.\\n</p>\\n</div>\\n</div>\\n</div>\\n</div>\\n</div>\\n<div id=\"pagefooterpanel\" style=\"margin-top:450px\">\\n<div id=\"navfooter\" align=\"center\">\\n© 2015 all rights reserved, Wine-Searcher™\\n</div>\\n</div>\\n\\n\\n</body></html>'"
      ]
     },
     "execution_count": 50,
     "metadata": {},
     "output_type": "execute_result"
    }
   ],
   "source": [
    "driver.page_source"
   ]
  },
  {
   "cell_type": "code",
   "execution_count": 38,
   "metadata": {
    "collapsed": true
   },
   "outputs": [],
   "source": [
    "mainWin = driver.current_window_handle"
   ]
  },
  {
   "cell_type": "code",
   "execution_count": 39,
   "metadata": {
    "collapsed": false
   },
   "outputs": [],
   "source": [
    "driver.switch_to_frame(driver.find_elements_by_tag_name(\"iframe\")[0])"
   ]
  },
  {
   "cell_type": "code",
   "execution_count": 41,
   "metadata": {
    "collapsed": true
   },
   "outputs": [],
   "source": [
    "driver.find_element_by_id('recaptcha-anchor').click()"
   ]
  },
  {
   "cell_type": "code",
   "execution_count": 28,
   "metadata": {
    "collapsed": false
   },
   "outputs": [],
   "source": [
    "CheckBox = WebDriverWait(driver, 10).until(\n",
    "        EC.presence_of_element_located((By.ID ,\"recaptcha-anchor\"))\n",
    "        ) "
   ]
  },
  {
   "cell_type": "code",
   "execution_count": 29,
   "metadata": {
    "collapsed": false
   },
   "outputs": [],
   "source": [
    "CheckBox.click()"
   ]
  },
  {
   "cell_type": "code",
   "execution_count": 30,
   "metadata": {
    "collapsed": false
   },
   "outputs": [],
   "source": [
    "driver.switch_to.window(mainWin)"
   ]
  },
  {
   "cell_type": "code",
   "execution_count": 33,
   "metadata": {
    "collapsed": false
   },
   "outputs": [
    {
     "data": {
      "text/html": [
       "<?xml version=\"1.0\" encoding=\"UTF-8\"?>\n",
       "<!-- This Source Code Form is subject to the terms of the Mozilla Public\n",
       "   - License, v. 2.0. If a copy of the MPL was not distributed with this\n",
       "   - file, You can obtain one at http://mozilla.org/MPL/2.0/. -->\n",
       "<!DOCTYPE html [\n",
       "  <!ENTITY % htmlDTD\n",
       "    PUBLIC \"-//W3C//DTD XHTML 1.0 Strict//EN\"\n",
       "    \"DTD/xhtml1-strict.dtd\">\n",
       "  %htmlDTD;\n",
       "  <!ENTITY % globalDTD\n",
       "    SYSTEM \"chrome://global/locale/global.dtd\">\n",
       "  %globalDTD;\n",
       "  <!ENTITY % brandDTD SYSTEM \"chrome://branding/locale/brand.dtd\" >\n",
       "  %brandDTD;\n",
       "  <!ENTITY % tabCrashedDTD\n",
       "    SYSTEM \"chrome://browser/locale/aboutTabCrashed.dtd\">\n",
       "  %tabCrashedDTD;\n",
       "]>\n",
       "<html xmlns=\"http://www.w3.org/1999/xhtml\" class=\"crashDumpAvailable\">\n",
       "  <head>\n",
       "    <link rel=\"stylesheet\" type=\"text/css\" media=\"all\" href=\"chrome://global/skin/in-content/info-pages.css\" />\n",
       "    <link rel=\"stylesheet\" type=\"text/css\" media=\"all\" href=\"chrome://browser/content/aboutTabCrashed.css\" />\n",
       "    <link rel=\"stylesheet\" type=\"text/css\" media=\"all\" href=\"chrome://browser/skin/aboutTabCrashed.css\" />\n",
       "  <title>Wine-Searcher. Human race only please ...</title></head>\n",
       "\n",
       "  <body dir=\"ltr\">\n",
       "    <div class=\"container\">\n",
       "      <div class=\"title\">\n",
       "        <h1 class=\"title-text\">Bad news first: This tab has crashed</h1>\n",
       "      </div>\n",
       "      <p>Now for the good news: You can just close this tab, restore it or restore all your crashed tabs.</p>\n",
       "\n",
       "      <div id=\"report-box\">\n",
       "        <input id=\"sendReport\" type=\"checkbox\" />\n",
       "        <label for=\"sendReport\">Submit a crash report to help prevent more bad news</label>\n",
       "        <div id=\"crash-reporter-container\">\n",
       "          <p id=\"crash-reporter-title\">Mozilla Crash Reporter</p>\n",
       "          <textarea id=\"comments\" placeholder=\"Add a comment (comments are publicly visible)\" rows=\"4\"></textarea>\n",
       "\n",
       "          <ul id=\"options\">\n",
       "            <li><input id=\"includeURL\" type=\"checkbox\" />\n",
       "            <label for=\"includeURL\">Include the address of the page I was on</label></li>\n",
       "\n",
       "            <li><input id=\"emailMe\" type=\"checkbox\" />\n",
       "            <label for=\"emailMe\">Email me when more information is available</label></li>\n",
       "          </ul>\n",
       "\n",
       "          <input id=\"email\" placeholder=\"Enter your email address here\" type=\"text\" />\n",
       "        </div>\n",
       "      </div>\n",
       "\n",
       "      <p id=\"reportSent\">Crash report already submitted; thank you for helping make Firefox better!</p>\n",
       "\n",
       "      <div class=\"button-container\">\n",
       "        <button id=\"closeTab\">\n",
       "          Close This Tab</button>\n",
       "        <button id=\"restoreTab\" class=\"primary\">\n",
       "          Restore This Tab</button>\n",
       "        <button id=\"restoreAll\" autofocus=\"true\" class=\"primary\" hidden=\"true\">\n",
       "          Restore All Crashed Tabs</button>\n",
       "      </div>\n",
       "    </div>\n",
       "  </body>\n",
       "  <script type=\"text/javascript;version=1.8\" src=\"chrome://browser/content/aboutTabCrashed.js\"></script>\n",
       "</html>"
      ],
      "text/plain": [
       "<IPython.core.display.HTML object>"
      ]
     },
     "execution_count": 33,
     "metadata": {},
     "output_type": "execute_result"
    }
   ],
   "source": [
    "HTML(driver.page_source)"
   ]
  },
  {
   "cell_type": "code",
   "execution_count": null,
   "metadata": {
    "collapsed": true
   },
   "outputs": [],
   "source": []
  },
  {
   "cell_type": "code",
   "execution_count": 49,
   "metadata": {
    "collapsed": false
   },
   "outputs": [
    {
     "data": {
      "text/plain": [
       "True"
      ]
     },
     "execution_count": 49,
     "metadata": {},
     "output_type": "execute_result"
    }
   ],
   "source": [
    "driver.save_screenshot('quicklook.jpg')"
   ]
  },
  {
   "cell_type": "code",
   "execution_count": null,
   "metadata": {
    "collapsed": true
   },
   "outputs": [],
   "source": []
  }
 ],
 "metadata": {
  "kernelspec": {
   "display_name": "Python 3",
   "language": "python",
   "name": "python3"
  },
  "language_info": {
   "codemirror_mode": {
    "name": "ipython",
    "version": 3
   },
   "file_extension": ".py",
   "mimetype": "text/x-python",
   "name": "python",
   "nbconvert_exporter": "python",
   "pygments_lexer": "ipython3",
   "version": "3.5.2"
  }
 },
 "nbformat": 4,
 "nbformat_minor": 1
}
